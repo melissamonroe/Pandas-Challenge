{
 "cells": [
  {
   "cell_type": "markdown",
   "metadata": {},
   "source": [
    "### Note\n",
    "* Instructions have been included for each segment. You do not have to follow them exactly, but they are included to help you think through the steps."
   ]
  },
  {
   "cell_type": "code",
   "execution_count": null,
   "metadata": {},
   "outputs": [],
   "source": [
    "# Dependencies and Setup\n",
    "import pandas as pd"
   ]
  },
  {
   "cell_type": "code",
   "execution_count": null,
   "metadata": {},
   "outputs": [],
   "source": [
    "# File to Load (Remember to Change These)\n",
    "file_to_load = \"Resources/purchase_data.csv\"\n",
    "\n",
    "# Read Purchasing File and store into Pandas data frame\n",
    "purchase_df = pd.read_csv(file_to_load)\n",
    "purchase_df"
   ]
  },
  {
   "cell_type": "markdown",
   "metadata": {},
   "source": [
    "## Player Count"
   ]
  },
  {
   "cell_type": "markdown",
   "metadata": {},
   "source": [
    "* Display the total number of players\n"
   ]
  },
  {
   "cell_type": "code",
   "execution_count": null,
   "metadata": {},
   "outputs": [],
   "source": [
    "count_sn_df = purchase_df[\"SN\"].nunique()\n",
    "count_sn_df"
   ]
  },
  {
   "cell_type": "markdown",
   "metadata": {},
   "source": [
    "## Purchasing Analysis (Total)"
   ]
  },
  {
   "cell_type": "markdown",
   "metadata": {},
   "source": [
    "* Run basic calculations to obtain number of unique items, average price, etc.\n",
    "\n",
    "\n",
    "* Create a summary data frame to hold the results\n",
    "\n",
    "\n",
    "* Optional: give the displayed data cleaner formatting\n",
    "\n",
    "\n",
    "* Display the summary data frame\n"
   ]
  },
  {
   "cell_type": "code",
   "execution_count": null,
   "metadata": {},
   "outputs": [],
   "source": [
    "count_ItemID = purchase_df[\"Item ID\"].nunique()\n",
    "avg_price = purchase_df[\"Price\"].mean()\n",
    "count_purchases = purchase_df[\"Purchase ID\"].count()\n",
    "sum_price = purchase_df[\"Price\"].sum()\n",
    "\n",
    "# Creating a new DataFrame using both duration and count\n",
    "summary_df = pd.DataFrame(\n",
    "    {\"Number of Unique Items\": [count_ItemID],\n",
    "     \"Average Price\": \"${:,.2f}\".format(avg_price),\n",
    "    \"Number of Purchases\": [count_purchases],\n",
    "    \"Total Revenue\":\"${:,.2f}\".format(sum_price)})\n",
    "summary_df.head()\n"
   ]
  },
  {
   "cell_type": "markdown",
   "metadata": {},
   "source": [
    "## Gender Demographics"
   ]
  },
  {
   "cell_type": "markdown",
   "metadata": {},
   "source": [
    "* Percentage and Count of Male Players\n",
    "\n",
    "\n",
    "* Percentage and Count of Female Players\n",
    "\n",
    "\n",
    "* Percentage and Count of Other / Non-Disclosed\n",
    "\n",
    "\n"
   ]
  },
  {
   "cell_type": "code",
   "execution_count": null,
   "metadata": {},
   "outputs": [],
   "source": [
    "# Find all records matching genders Male/Female/Other\n",
    "male_df = purchase_df.loc[purchase_df[\"Gender\"] == \"Male\", :]\n",
    "female_df = purchase_df.loc[purchase_df[\"Gender\"] == \"Female\", :]\n",
    "other_df = purchase_df.loc[purchase_df[\"Gender\"] == \"Other / Non-Disclosed\", :]\n",
    "\n",
    "# Create find and format unique sn records matching genders Male/Female/Other\n",
    "count_male = male_df[\"SN\"].nunique()\n",
    "count_female = female_df[\"SN\"].nunique()\n",
    "count_other = other_df[\"SN\"].nunique()\n",
    "\n",
    "percentage_male = \"{:.2%}\".format(count_male / count_sn_df)\n",
    "percentage_female = \"{:.2%}\".format(count_female / count_sn_df)\n",
    "percentage_other = \"{:.2%}\".format(count_other / count_sn_df)\n",
    "\n",
    "# Summary DataFrame for Gender Demographics\n",
    "summary_gender_df = pd.DataFrame(\n",
    "    {\"\":[\"Male\",\"Female\",\"Other / Non-Disclosed\"],\n",
    "     \"Total Count\":[count_male,count_female,count_other],\n",
    "     \"Percentage of Players\":[percentage_male,percentage_female,percentage_other]})\n",
    "summary_gender_df.head()\n"
   ]
  },
  {
   "cell_type": "markdown",
   "metadata": {},
   "source": [
    "\n",
    "## Purchasing Analysis (Gender)"
   ]
  },
  {
   "cell_type": "markdown",
   "metadata": {},
   "source": [
    "* Run basic calculations to obtain purchase count, avg. purchase price, avg. purchase total per person etc. by gender\n",
    "\n",
    "\n",
    "\n",
    "\n",
    "* Create a summary data frame to hold the results\n",
    "\n",
    "\n",
    "* Optional: give the displayed data cleaner formatting\n",
    "\n",
    "\n",
    "* Display the summary data frame"
   ]
  },
  {
   "cell_type": "code",
   "execution_count": null,
   "metadata": {},
   "outputs": [],
   "source": [
    "# Run basic calculations to obtain purchase count, avg. purchase price, avg. purchase total per person etc. by gender\n",
    "count_purchase_male = male_df[\"Price\"].count()\n",
    "count_purchase_female = female_df[\"Price\"].count()\n",
    "count_purchase_other = other_df[\"Price\"].count()\n",
    "\n",
    "avg_purchase_male = \"${:,.2f}\".format(male_df[\"Price\"].mean())\n",
    "avg_purchase_female = \"${:,.2f}\".format(female_df[\"Price\"].mean())\n",
    "avg_purchase_other = \"${:,.2f}\".format(other_df[\"Price\"].mean())\n",
    "\n",
    "sum_purchase_male = \"${:,.2f}\".format(male_df[\"Price\"].sum())\n",
    "sum_purchase_female = \"${:,.2f}\".format(female_df[\"Price\"].sum())\n",
    "sum_purchase_other = \"${:,.2f}\".format(other_df[\"Price\"].sum())\n",
    "\n",
    "avg_purchase_male_person = \"${:,.2f}\".format(male_df[\"Price\"].sum() / count_male)\n",
    "sum_purchase_female_person = \"${:,.2f}\".format(female_df[\"Price\"].sum() / count_female)\n",
    "sum_purchase_other_person = \"${:,.2f}\".format(other_df[\"Price\"].sum() / count_other)\n",
    "\n",
    "\n",
    "# Summary DataFrame for Purchasing Analysis (Gender)\n",
    "summary_gender_df = pd.DataFrame(\n",
    "    {\"\":[\"Male\",\"Female\",\"Other / Non-Disclosed\"],\n",
    "     \"Purchase Count\":[count_purchase_male,count_purchase_female,count_purchase_other],\n",
    "     \"Average Purchase Price\":[avg_purchase_male,avg_purchase_female,avg_purchase_other],\n",
    "     \"Total Purchase Value\": [sum_purchase_male,sum_purchase_female,sum_purchase_other],\n",
    "     \"Avg Total Purchase per Person\": [avg_purchase_male_person,sum_purchase_female_person,sum_purchase_other_person]\n",
    "    })\n",
    "summary_gender_df.head()\n"
   ]
  },
  {
   "cell_type": "markdown",
   "metadata": {},
   "source": [
    "## Age Demographics"
   ]
  },
  {
   "cell_type": "code",
   "execution_count": null,
   "metadata": {},
   "outputs": [],
   "source": [
    "# Create the bins in which Data will be held\n",
    "# Bins are 0, 59.9, 69.9, 79.9, 89.9, 100.   \n",
    "bins = [0,9.9, 14.9, 19.9, 24.9, 29.9, 34.9, 39.9,40]\n",
    "\n",
    "# Create the names for the five bins\n",
    "group_labels = [\"<10\",\"11-14\",\"15-19\",\"20-24\",\"25-29\",\"30-34\",\"35-39\",\"40+\"]"
   ]
  },
  {
   "cell_type": "code",
   "execution_count": null,
   "metadata": {},
   "outputs": [],
   "source": [
    "df = pd.cut(count_age[\"Age\"], bins, labels=group_labels, include_lowest=True)\n",
    "df.head()\n"
   ]
  },
  {
   "cell_type": "code",
   "execution_count": null,
   "metadata": {},
   "outputs": [],
   "source": [
    "count_age[\"Age\"] = purchase_df[\"Age\"].value_counts()\n",
    "count_age.head()"
   ]
  },
  {
   "cell_type": "code",
   "execution_count": null,
   "metadata": {},
   "outputs": [],
   "source": [
    "count_age[\"Age Summary\"] = pd.cut(purchase_df[\"Age\"], bins, labels=group_labels, include_lowest=True)\n",
    "count_age.head()\n",
    "\n",
    "# Slice the data and place it into bins\n",
    "#pd.cut(ted_df[\"views\"], bins, labels=group_labels).head()\n"
   ]
  },
  {
   "cell_type": "code",
   "execution_count": null,
   "metadata": {},
   "outputs": [],
   "source": [
    "percent_age = (count_age / count_sn_df) * 100\n",
    "percent_age"
   ]
  },
  {
   "cell_type": "code",
   "execution_count": null,
   "metadata": {},
   "outputs": [],
   "source": [
    "# Merge two dataframes using an inner join\n",
    "merge_df = pd.merge(purchase_df,info_df, on=\"SN\")\n",
    "merge_df"
   ]
  },
  {
   "cell_type": "code",
   "execution_count": null,
   "metadata": {},
   "outputs": [],
   "source": []
  },
  {
   "cell_type": "code",
   "execution_count": null,
   "metadata": {},
   "outputs": [],
   "source": [
    "count_age_group = age_group_df[\"Age Demographic\"].count()\n",
    "count_age_group\n"
   ]
  },
  {
   "cell_type": "code",
   "execution_count": null,
   "metadata": {},
   "outputs": [],
   "source": [
    "\n",
    "age_group_df = purchase_df[[\"Age Demographic\",\"SN\"]].groupby(\"Age Demographic\")\n",
    "age_group_df.head()\n"
   ]
  },
  {
   "cell_type": "code",
   "execution_count": null,
   "metadata": {},
   "outputs": [],
   "source": [
    "summary_age_df = pd.DataFrame(\n",
    "    {\"Age Demographic\":count_age              \n",
    "    })\n",
    "summary_age_df.head()"
   ]
  },
  {
   "cell_type": "markdown",
   "metadata": {},
   "source": [
    "## Purchasing Analysis (Age)"
   ]
  },
  {
   "cell_type": "markdown",
   "metadata": {},
   "source": [
    "* Bin the purchase_data data frame by age\n",
    "\n",
    "\n",
    "* Run basic calculations to obtain purchase count, avg. purchase price, avg. purchase total per person etc. in the table below\n",
    "\n",
    "\n",
    "* Create a summary data frame to hold the results\n",
    "\n",
    "\n",
    "* Optional: give the displayed data cleaner formatting\n",
    "\n",
    "\n",
    "* Display the summary data frame"
   ]
  },
  {
   "cell_type": "code",
   "execution_count": null,
   "metadata": {},
   "outputs": [],
   "source": []
  },
  {
   "cell_type": "markdown",
   "metadata": {},
   "source": [
    "## Top Spenders"
   ]
  },
  {
   "cell_type": "markdown",
   "metadata": {},
   "source": [
    "* Run basic calculations to obtain the results in the table below\n",
    "\n",
    "\n",
    "* Create a summary data frame to hold the results\n",
    "\n",
    "\n",
    "* Sort the total purchase value column in descending order\n",
    "\n",
    "\n",
    "* Optional: give the displayed data cleaner formatting\n",
    "\n",
    "\n",
    "* Display a preview of the summary data frame\n",
    "\n"
   ]
  },
  {
   "cell_type": "code",
   "execution_count": null,
   "metadata": {},
   "outputs": [],
   "source": []
  },
  {
   "cell_type": "markdown",
   "metadata": {},
   "source": [
    "## Most Popular Items"
   ]
  },
  {
   "cell_type": "markdown",
   "metadata": {},
   "source": [
    "* Retrieve the Item ID, Item Name, and Item Price columns\n",
    "\n",
    "\n",
    "* Group by Item ID and Item Name. Perform calculations to obtain purchase count, average item price, and total purchase value\n",
    "\n",
    "\n",
    "* Create a summary data frame to hold the results\n",
    "\n",
    "\n",
    "* Sort the purchase count column in descending order\n",
    "\n",
    "\n",
    "* Optional: give the displayed data cleaner formatting\n",
    "\n",
    "\n",
    "* Display a preview of the summary data frame\n",
    "\n"
   ]
  },
  {
   "cell_type": "code",
   "execution_count": null,
   "metadata": {},
   "outputs": [],
   "source": []
  },
  {
   "cell_type": "markdown",
   "metadata": {},
   "source": [
    "## Most Profitable Items"
   ]
  },
  {
   "cell_type": "markdown",
   "metadata": {},
   "source": [
    "* Sort the above table by total purchase value in descending order\n",
    "\n",
    "\n",
    "* Optional: give the displayed data cleaner formatting\n",
    "\n",
    "\n",
    "* Display a preview of the data frame\n",
    "\n"
   ]
  },
  {
   "cell_type": "code",
   "execution_count": null,
   "metadata": {
    "scrolled": true
   },
   "outputs": [],
   "source": []
  }
 ],
 "metadata": {
  "anaconda-cloud": {},
  "kernel_info": {
   "name": "python3"
  },
  "kernelspec": {
   "display_name": "Python 3",
   "language": "python",
   "name": "python3"
  },
  "language_info": {
   "codemirror_mode": {
    "name": "ipython",
    "version": 3
   },
   "file_extension": ".py",
   "mimetype": "text/x-python",
   "name": "python",
   "nbconvert_exporter": "python",
   "pygments_lexer": "ipython3",
   "version": "3.6.10"
  },
  "latex_envs": {
   "LaTeX_envs_menu_present": true,
   "autoclose": false,
   "autocomplete": true,
   "bibliofile": "biblio.bib",
   "cite_by": "apalike",
   "current_citInitial": 1,
   "eqLabelWithNumbers": true,
   "eqNumInitial": 1,
   "hotkeys": {
    "equation": "Ctrl-E",
    "itemize": "Ctrl-I"
   },
   "labels_anchors": false,
   "latex_user_defs": false,
   "report_style_numbering": false,
   "user_envs_cfg": false
  },
  "nteract": {
   "version": "0.2.0"
  }
 },
 "nbformat": 4,
 "nbformat_minor": 2
}
