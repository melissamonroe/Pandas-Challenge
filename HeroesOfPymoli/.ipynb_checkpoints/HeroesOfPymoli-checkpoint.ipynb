{
 "cells": [
  {
   "cell_type": "markdown",
   "metadata": {},
   "source": [
    "### Note\n",
    "* Instructions have been included for each segment. You do not have to follow them exactly, but they are included to help you think through the steps."
   ]
  },
  {
   "cell_type": "code",
   "execution_count": null,
   "metadata": {},
   "outputs": [],
   "source": [
    "# Dependencies and Setup\n",
    "import pandas as pd"
   ]
  },
  {
   "cell_type": "code",
   "execution_count": null,
   "metadata": {},
   "outputs": [],
   "source": [
    "# File to Load (Remember to Change These)\n",
    "file_to_load = \"Resources/purchase_data.csv\"\n",
    "\n",
    "# Read Purchasing File and store into Pandas data frame\n",
    "purchase_df = pd.read_csv(file_to_load)\n",
    "purchase_df"
   ]
  },
  {
   "cell_type": "markdown",
   "metadata": {},
   "source": [
    "## Player Count"
   ]
  },
  {
   "cell_type": "markdown",
   "metadata": {},
   "source": [
    "* Display the total number of players\n"
   ]
  },
  {
   "cell_type": "code",
   "execution_count": null,
   "metadata": {},
   "outputs": [],
   "source": [
    "count_sn = purchase_df[\"SN\"].nunique()\n",
    "count_sn"
   ]
  },
  {
   "cell_type": "markdown",
   "metadata": {},
   "source": [
    "## Purchasing Analysis (Total)"
   ]
  },
  {
   "cell_type": "markdown",
   "metadata": {},
   "source": [
    "* Run basic calculations to obtain number of unique items, average price, etc.\n",
    "\n",
    "\n",
    "* Create a summary data frame to hold the results\n",
    "\n",
    "\n",
    "* Optional: give the displayed data cleaner formatting\n",
    "\n",
    "\n",
    "* Display the summary data frame\n"
   ]
  },
  {
   "cell_type": "code",
   "execution_count": null,
   "metadata": {},
   "outputs": [],
   "source": [
    "count_ItemID = purchase_df[\"Item ID\"].nunique()\n",
    "avg_price = purchase_df[\"Price\"].mean()\n",
    "count_purchases = purchase_df[\"Purchase ID\"].count()\n",
    "sum_price = purchase_df[\"Price\"].sum()\n",
    "\n",
    "# Creating a new DataFrame using both duration and count\n",
    "summary_df = pd.DataFrame(\n",
    "    {\"Number of Unique Items\": [count_ItemID],\n",
    "     \"Average Price\": \"${:,.2f}\".format(avg_price),\n",
    "    \"Number of Purchases\": [count_purchases],\n",
    "    \"Total Revenue\":\"${:,.2f}\".format(sum_price)})\n",
    "summary_df.head()\n"
   ]
  },
  {
   "cell_type": "markdown",
   "metadata": {},
   "source": [
    "## Gender Demographics"
   ]
  },
  {
   "cell_type": "markdown",
   "metadata": {},
   "source": [
    "* Percentage and Count of Male Players\n",
    "\n",
    "\n",
    "* Percentage and Count of Female Players\n",
    "\n",
    "\n",
    "* Percentage and Count of Other / Non-Disclosed\n",
    "\n",
    "\n"
   ]
  },
  {
   "cell_type": "code",
   "execution_count": null,
   "metadata": {},
   "outputs": [],
   "source": [
    "# Find all records matching genders Male/Female/Other\n",
    "male_df = purchase_df.loc[purchase_df[\"Gender\"] == \"Male\", :]\n",
    "female_df = purchase_df.loc[purchase_df[\"Gender\"] == \"Female\", :]\n",
    "other_df = purchase_df.loc[purchase_df[\"Gender\"] == \"Other / Non-Disclosed\", :]\n",
    "\n",
    "# Create find and format unique sn records matching genders Male/Female/Other\n",
    "count_male = male_df[\"SN\"].nunique()\n",
    "count_female = female_df[\"SN\"].nunique()\n",
    "count_other = other_df[\"SN\"].nunique()\n",
    "\n",
    "percentage_male = \"{:.2%}\".format(count_male / count_sn_df)\n",
    "percentage_female = \"{:.2%}\".format(count_female / count_sn_df)\n",
    "percentage_other = \"{:.2%}\".format(count_other / count_sn_df)\n",
    "\n",
    "# Summary DataFrame for Gender Demographics\n",
    "summary_gender_df = pd.DataFrame(\n",
    "    {\"\":[\"Male\",\"Female\",\"Other / Non-Disclosed\"],\n",
    "     \"Total Count\":[count_male,count_female,count_other],\n",
    "     \"Percentage of Players\":[percentage_male,percentage_female,percentage_other]})\n",
    "summary_gender_df.head()\n"
   ]
  },
  {
   "cell_type": "markdown",
   "metadata": {},
   "source": [
    "\n",
    "## Purchasing Analysis (Gender)"
   ]
  },
  {
   "cell_type": "markdown",
   "metadata": {},
   "source": [
    "* Run basic calculations to obtain purchase count, avg. purchase price, avg. purchase total per person etc. by gender\n",
    "\n",
    "\n",
    "\n",
    "\n",
    "* Create a summary data frame to hold the results\n",
    "\n",
    "\n",
    "* Optional: give the displayed data cleaner formatting\n",
    "\n",
    "\n",
    "* Display the summary data frame"
   ]
  },
  {
   "cell_type": "code",
   "execution_count": null,
   "metadata": {},
   "outputs": [],
   "source": [
    "# Run basic calculations to obtain purchase count, avg. purchase price, avg. purchase total per person etc. by gender\n",
    "count_purchase_male = male_df[\"Price\"].count()\n",
    "count_purchase_female = female_df[\"Price\"].count()\n",
    "count_purchase_other = other_df[\"Price\"].count()\n",
    "\n",
    "avg_purchase_male = \"${:,.2f}\".format(male_df[\"Price\"].mean())\n",
    "avg_purchase_female = \"${:,.2f}\".format(female_df[\"Price\"].mean())\n",
    "avg_purchase_other = \"${:,.2f}\".format(other_df[\"Price\"].mean())\n",
    "\n",
    "sum_purchase_male = \"${:,.2f}\".format(male_df[\"Price\"].sum())\n",
    "sum_purchase_female = \"${:,.2f}\".format(female_df[\"Price\"].sum())\n",
    "sum_purchase_other = \"${:,.2f}\".format(other_df[\"Price\"].sum())\n",
    "\n",
    "avg_purchase_male_person = \"${:,.2f}\".format(male_df[\"Price\"].sum() / count_male)\n",
    "sum_purchase_female_person = \"${:,.2f}\".format(female_df[\"Price\"].sum() / count_female)\n",
    "sum_purchase_other_person = \"${:,.2f}\".format(other_df[\"Price\"].sum() / count_other)\n",
    "\n",
    "# Summary DataFrame for Purchasing Analysis (Gender)\n",
    "summary_gender_df = pd.DataFrame(\n",
    "    {\"\":[\"Male\",\"Female\",\"Other / Non-Disclosed\"],\n",
    "     \"Purchase Count\":[count_purchase_male,count_purchase_female,count_purchase_other],\n",
    "     \"Average Purchase Price\":[avg_purchase_male,avg_purchase_female,avg_purchase_other],\n",
    "     \"Total Purchase Value\": [sum_purchase_male,sum_purchase_female,sum_purchase_other],\n",
    "     \"Avg Total Purchase per Person\": [avg_purchase_male_person,sum_purchase_female_person,sum_purchase_other_person]\n",
    "    })\n",
    "summary_gender_df.head()\n"
   ]
  },
  {
   "cell_type": "markdown",
   "metadata": {},
   "source": [
    "## Age Demographics"
   ]
  },
  {
   "cell_type": "markdown",
   "metadata": {},
   "source": [
    "* Establish bins for ages\n",
    "\n",
    "\n",
    "* Categorize the existing players using the age bins. Hint: use pd.cut()\n",
    "\n",
    "\n",
    "* Calculate the numbers and percentages by age group\n",
    "\n",
    "\n",
    "* Create a summary data frame to hold the results\n",
    "\n",
    "\n",
    "* Optional: round the percentage column to two decimal points\n",
    "\n",
    "\n",
    "* Display Age Demographics Table"
   ]
  },
  {
   "cell_type": "code",
   "execution_count": null,
   "metadata": {},
   "outputs": [],
   "source": [
    "# Create the bins in which Data will be held\n",
    "# Bins are 0, 59.9, 69.9, 79.9, 89.9, 100.   \n",
    "bins = [0,9.9, 14.9, 19.9, 24.9, 29.9, 34.9, 39.9,1000]\n",
    "\n",
    "# Create the names for the five bins\n",
    "group_names = [\"<10\",\"11-14\",\"15-19\",\"20-24\",\"25-29\",\"30-34\",\"35-39\",\"40+\"]"
   ]
  },
  {
   "cell_type": "code",
   "execution_count": null,
   "metadata": {
    "scrolled": true
   },
   "outputs": [],
   "source": [
    "purchase_df[\"Age Group\"] = pd.cut(purchase_df[\"Age\"], bins, labels=group_names, include_lowest=True)\n",
    "purchase_df"
   ]
  },
  {
   "cell_type": "code",
   "execution_count": null,
   "metadata": {},
   "outputs": [],
   "source": [
    " # Create a GroupBy object based upon \"View Group\"\n",
    "age_group = purchase_df.groupby(\"Age Group\")\n",
    "age_group_count_df = age_group[\"SN\"].nunique()\n",
    "age_group_percent_df =(age_group[\"SN\"].nunique() / count_sn) * 100"
   ]
  },
  {
   "cell_type": "code",
   "execution_count": null,
   "metadata": {},
   "outputs": [],
   "source": [
    "summary_age_count_df = pd.DataFrame(\n",
    "    {\"Count\":age_group_count_df,\n",
    "     \"Percent\":  age_group_percent_df\n",
    "    })\n",
    "summary_age_count_df"
   ]
  },
  {
   "cell_type": "markdown",
   "metadata": {},
   "source": [
    "## Purchasing Analysis (Age)"
   ]
  },
  {
   "cell_type": "markdown",
   "metadata": {},
   "source": [
    "* Bin the purchase_data data frame by age\n",
    "\n",
    "\n",
    "* Run basic calculations to obtain purchase count, avg. purchase price, avg. purchase total per person etc. in the table below\n",
    "\n",
    "\n",
    "* Create a summary data frame to hold the results\n",
    "\n",
    "\n",
    "* Optional: give the displayed data cleaner formatting\n",
    "\n",
    "\n",
    "* Display the summary data frame"
   ]
  },
  {
   "cell_type": "code",
   "execution_count": null,
   "metadata": {},
   "outputs": [],
   "source": [
    "# Purchase Count\n",
    "ag_purchase_count_df = age_group[\"Purchase ID\"].count()\n",
    "\n",
    "# Average Purchase Price        \n",
    "ag_mean_price_df = age_group[\"Price\"].mean()\n",
    "\n",
    "# Total Purchase Value\n",
    "ag_purchase_sum_df = age_group[\"Price\"].sum()\n",
    "\n",
    "# Avg Total Purchase per Person\n",
    "ag_purchase_avgperson_df = age_group[\"Price\"].sum() / age_group[\"SN\"].nunique()"
   ]
  },
  {
   "cell_type": "code",
   "execution_count": null,
   "metadata": {},
   "outputs": [],
   "source": [
    "summary_age_purchase_df = pd.DataFrame(\n",
    "    {\"Average Purchase Price   \":ag_mean_price_df,\n",
    "     \"Purchase Count\":  ag_purchase_count_df,\n",
    "     \"Total Purchase Value\":ag_purchase_sum_df,\n",
    "     \"Avg Total Purchase per Person\": ag_purchase_avgperson_df\n",
    "    })\n",
    "summary_age_purchase_df"
   ]
  },
  {
   "cell_type": "markdown",
   "metadata": {},
   "source": [
    "## Top Spenders"
   ]
  },
  {
   "cell_type": "markdown",
   "metadata": {},
   "source": [
    "* Run basic calculations to obtain the results in the table below\n",
    "\n",
    "\n",
    "* Create a summary data frame to hold the results\n",
    "\n",
    "\n",
    "* Sort the total purchase value column in descending order\n",
    "\n",
    "\n",
    "* Optional: give the displayed data cleaner formatting\n",
    "\n",
    "\n",
    "* Display a preview of the summary data frame\n",
    "\n"
   ]
  },
  {
   "cell_type": "code",
   "execution_count": null,
   "metadata": {},
   "outputs": [],
   "source": [
    "sn_group = purchase_df.groupby(\"SN\")\n",
    "sn_group_sum_df = sn_group[\"Price\"].sum()\n",
    "# sn_purchase_count_df = sn_group[\"Purchase ID\"].count()\n",
    "\n",
    "summary_topspenders_df = pd.DataFrame(\n",
    "    {\"Purchase Count\":sn_purchase_count_df,\n",
    "     \"Total Purchase Value\":sn_group_sum_df.sort_values(ascending=False)\n",
    "    })\n",
    "summary_topspenders_df = summary_topspenders_df.sort_values(\"Total Purchase Value\", ascending=False)\n",
    "summary_topspenders_df.head()"
   ]
  },
  {
   "cell_type": "markdown",
   "metadata": {},
   "source": [
    "## Most Popular Items"
   ]
  },
  {
   "cell_type": "markdown",
   "metadata": {},
   "source": [
    "* Retrieve the Item ID, Item Name, and Item Price columns\n",
    "\n",
    "\n",
    "* Group by Item ID and Item Name. Perform calculations to obtain purchase count, average item price, and total purchase value\n",
    "\n",
    "\n",
    "* Create a summary data frame to hold the results\n",
    "\n",
    "\n",
    "* Sort the purchase count column in descending order\n",
    "\n",
    "\n",
    "* Optional: give the displayed data cleaner formatting\n",
    "\n",
    "\n",
    "* Display a preview of the summary data frame\n",
    "\n"
   ]
  },
  {
   "cell_type": "code",
   "execution_count": null,
   "metadata": {},
   "outputs": [],
   "source": [
    "popular_df = purchase_df[[\"Item ID\",\"Item Name\", \"Price\"]]\n",
    "grouped_popular_df = popular_df.groupby([\"Item ID\",\"Item Name\"])"
   ]
  },
  {
   "cell_type": "code",
   "execution_count": null,
   "metadata": {},
   "outputs": [],
   "source": [
    "summary_grouped_popular_df = pd.DataFrame(\n",
    "    {\"Purchase Count\":grouped_popular_df[\"Item ID\"].count(),\n",
    "     \"Average Price\": grouped_popular_df[\"Price\"].mean(),\n",
    "     \"Total Purchase Value\": grouped_popular_df[\"Price\"].sum()     \n",
    "    }\n",
    ")\n",
    "summary_grouped_popular_df\n",
    "\n",
    "summary_grouped_popular_df = summary_grouped_popular_df.sort_values(\"Purchase Count\", ascending=False)\n",
    "summary_grouped_popular_df.head()"
   ]
  },
  {
   "cell_type": "markdown",
   "metadata": {},
   "source": [
    "## Most Profitable Items"
   ]
  },
  {
   "cell_type": "markdown",
   "metadata": {},
   "source": [
    "* Sort the above table by total purchase value in descending order\n",
    "\n",
    "\n",
    "* Optional: give the displayed data cleaner formatting\n",
    "\n",
    "\n",
    "* Display a preview of the data frame\n",
    "\n"
   ]
  },
  {
   "cell_type": "code",
   "execution_count": null,
   "metadata": {
    "scrolled": true
   },
   "outputs": [],
   "source": [
    "summary_popular_value_df = summary_grouped_popular_df.sort_values(\"Total Purchase Value\", ascending=False)\n",
    "summary_popular_value_df.head()"
   ]
  },
  {
   "cell_type": "code",
   "execution_count": null,
   "metadata": {},
   "outputs": [],
   "source": []
  }
 ],
 "metadata": {
  "anaconda-cloud": {},
  "kernel_info": {
   "name": "python3"
  },
  "kernelspec": {
   "display_name": "Python 3",
   "language": "python",
   "name": "python3"
  },
  "language_info": {
   "codemirror_mode": {
    "name": "ipython",
    "version": 3
   },
   "file_extension": ".py",
   "mimetype": "text/x-python",
   "name": "python",
   "nbconvert_exporter": "python",
   "pygments_lexer": "ipython3",
   "version": "3.6.10"
  },
  "latex_envs": {
   "LaTeX_envs_menu_present": true,
   "autoclose": false,
   "autocomplete": true,
   "bibliofile": "biblio.bib",
   "cite_by": "apalike",
   "current_citInitial": 1,
   "eqLabelWithNumbers": true,
   "eqNumInitial": 1,
   "hotkeys": {
    "equation": "Ctrl-E",
    "itemize": "Ctrl-I"
   },
   "labels_anchors": false,
   "latex_user_defs": false,
   "report_style_numbering": false,
   "user_envs_cfg": false
  },
  "nteract": {
   "version": "0.2.0"
  }
 },
 "nbformat": 4,
 "nbformat_minor": 2
}
